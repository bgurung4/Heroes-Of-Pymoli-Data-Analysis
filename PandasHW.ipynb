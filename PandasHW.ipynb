{
 "cells": [
  {
   "cell_type": "markdown",
   "metadata": {},
   "source": [
    "### Heroes Of Pymoli Data Analysis\n",
    "* Of the 1163 active players, the vast majority are male (84%). There also exists, a smaller, but notable proportion of female players (14%).\n",
    "\n",
    "* Our peak age demographic falls between 20-24 (44.8%) with secondary groups falling between 15-19 (18.60%) and 25-29 (13.4%).  \n",
    "-----"
   ]
  },
  {
   "cell_type": "markdown",
   "metadata": {},
   "source": [
    "### Note\n",
    "* Instructions have been included for each segment. You do not have to follow them exactly, but they are included to help you think through the steps."
   ]
  },
  {
   "cell_type": "code",
   "execution_count": 1,
   "metadata": {},
   "outputs": [],
   "source": [
    "# Dependencies and Setup\n",
    "import pandas as pd\n",
    "import numpy as np\n",
    "\n",
    "# File to Load (Remember to Change These)\n",
    "file_to_load = \"Resources/purchase_data.json\"\n",
    "\n",
    "# Read Purchasing File and store into Pandas data frame\n",
    "purchase_data = pd.read_json(file_to_load)"
   ]
  },
  {
   "cell_type": "markdown",
   "metadata": {},
   "source": [
    "## Player Count"
   ]
  },
  {
   "cell_type": "markdown",
   "metadata": {},
   "source": [
    "* Display the total number of players\n"
   ]
  },
  {
   "cell_type": "code",
   "execution_count": 2,
   "metadata": {},
   "outputs": [
    {
     "data": {
      "text/html": [
       "<div>\n",
       "<style scoped>\n",
       "    .dataframe tbody tr th:only-of-type {\n",
       "        vertical-align: middle;\n",
       "    }\n",
       "\n",
       "    .dataframe tbody tr th {\n",
       "        vertical-align: top;\n",
       "    }\n",
       "\n",
       "    .dataframe thead th {\n",
       "        text-align: right;\n",
       "    }\n",
       "</style>\n",
       "<table border=\"1\" class=\"dataframe\">\n",
       "  <thead>\n",
       "    <tr style=\"text-align: right;\">\n",
       "      <th></th>\n",
       "      <th>Total Players</th>\n",
       "    </tr>\n",
       "  </thead>\n",
       "  <tbody>\n",
       "    <tr>\n",
       "      <th>0</th>\n",
       "      <td>573</td>\n",
       "    </tr>\n",
       "  </tbody>\n",
       "</table>\n",
       "</div>"
      ],
      "text/plain": [
       "   Total Players\n",
       "0            573"
      ]
     },
     "execution_count": 2,
     "metadata": {},
     "output_type": "execute_result"
    }
   ],
   "source": [
    "#Use the length of list names \"SN\", for total players\n",
    "total_players = len(purchase_data[\"SN\"].value_counts())\n",
    "\n",
    "#Create dafaframe with total players named player count\n",
    "player_count = pd.DataFrame({\"Total Players\":[total_players]})\n",
    "player_count"
   ]
  },
  {
   "cell_type": "markdown",
   "metadata": {},
   "source": [
    "## Purchasing Analysis (Total)"
   ]
  },
  {
   "cell_type": "markdown",
   "metadata": {},
   "source": [
    "* Run basic calculations to obtain number of unique items, average price, etc.\n",
    "\n",
    "\n",
    "* Create a summary data frame to hold the results\n",
    "\n",
    "\n",
    "* Optional: give the displayed data cleaner formatting\n",
    "\n",
    "\n",
    "* Display the summary data frame\n"
   ]
  },
  {
   "cell_type": "code",
   "execution_count": 3,
   "metadata": {},
   "outputs": [
    {
     "data": {
      "text/html": [
       "<div>\n",
       "<style scoped>\n",
       "    .dataframe tbody tr th:only-of-type {\n",
       "        vertical-align: middle;\n",
       "    }\n",
       "\n",
       "    .dataframe tbody tr th {\n",
       "        vertical-align: top;\n",
       "    }\n",
       "\n",
       "    .dataframe thead th {\n",
       "        text-align: right;\n",
       "    }\n",
       "</style>\n",
       "<table border=\"1\" class=\"dataframe\">\n",
       "  <thead>\n",
       "    <tr style=\"text-align: right;\">\n",
       "      <th></th>\n",
       "      <th>Number of Unique Items</th>\n",
       "      <th>Number of Purchases</th>\n",
       "      <th>Average Purchase Price</th>\n",
       "      <th>Total Revenue</th>\n",
       "    </tr>\n",
       "  </thead>\n",
       "  <tbody>\n",
       "    <tr>\n",
       "      <th>0</th>\n",
       "      <td>183</td>\n",
       "      <td>780</td>\n",
       "      <td>2.931192</td>\n",
       "      <td>2286.33</td>\n",
       "    </tr>\n",
       "  </tbody>\n",
       "</table>\n",
       "</div>"
      ],
      "text/plain": [
       "   Number of Unique Items  Number of Purchases  Average Purchase Price  \\\n",
       "0                     183                  780                2.931192   \n",
       "\n",
       "   Total Revenue  \n",
       "0        2286.33  "
      ]
     },
     "execution_count": 3,
     "metadata": {},
     "output_type": "execute_result"
    }
   ],
   "source": [
    "\n",
    "#Group purchase_data by gender \n",
    "average_item_price = purchase_data[\"Price\"].mean()\n",
    "total_purchase_value = purchase_data[\"Price\"].sum()\n",
    "purchase_count = purchase_data[\"Price\"].count()\n",
    "item_count = len(purchase_data[\"Item ID\"].unique())\n",
    "\n",
    "# Create DataFrame to hold results\n",
    "summary_table = pd.DataFrame({\"Number of Unique Items\": item_count,\n",
    "                              \"Number of Purchases\": [purchase_count],\n",
    "                              \"Average Purchase Price\": [average_item_price],\n",
    "                              \"Total Revenue\": [total_purchase_value]})\n",
    "\n",
    "summary_table"
   ]
  },
  {
   "cell_type": "markdown",
   "metadata": {},
   "source": [
    "## Gender Demographics"
   ]
  },
  {
   "cell_type": "markdown",
   "metadata": {},
   "source": [
    "* Percentage and Count of Male Players\n",
    "\n",
    "\n",
    "* Percentage and Count of Female Players\n",
    "\n",
    "\n",
    "* Percentage and Count of Other / Non-Disclosed\n",
    "\n",
    "\n"
   ]
  },
  {
   "cell_type": "code",
   "execution_count": 4,
   "metadata": {},
   "outputs": [
    {
     "data": {
      "text/html": [
       "<style  type=\"text/css\" >\n",
       "</style><table id=\"T_1a9642c4_a5d5_11e9_ac43_8c85904174b4\" ><thead>    <tr>        <th class=\"blank level0\" ></th>        <th class=\"col_heading level0 col0\" >Percentage of Players</th>        <th class=\"col_heading level0 col1\" >Total Count</th>    </tr></thead><tbody>\n",
       "                <tr>\n",
       "                        <th id=\"T_1a9642c4_a5d5_11e9_ac43_8c85904174b4level0_row0\" class=\"row_heading level0 row0\" >Male</th>\n",
       "                        <td id=\"T_1a9642c4_a5d5_11e9_ac43_8c85904174b4row0_col0\" class=\"data row0 col0\" >81.15</td>\n",
       "                        <td id=\"T_1a9642c4_a5d5_11e9_ac43_8c85904174b4row0_col1\" class=\"data row0 col1\" >465</td>\n",
       "            </tr>\n",
       "            <tr>\n",
       "                        <th id=\"T_1a9642c4_a5d5_11e9_ac43_8c85904174b4level0_row1\" class=\"row_heading level0 row1\" >Female</th>\n",
       "                        <td id=\"T_1a9642c4_a5d5_11e9_ac43_8c85904174b4row1_col0\" class=\"data row1 col0\" >17.45</td>\n",
       "                        <td id=\"T_1a9642c4_a5d5_11e9_ac43_8c85904174b4row1_col1\" class=\"data row1 col1\" >100</td>\n",
       "            </tr>\n",
       "            <tr>\n",
       "                        <th id=\"T_1a9642c4_a5d5_11e9_ac43_8c85904174b4level0_row2\" class=\"row_heading level0 row2\" >Other / Non-Disclosed</th>\n",
       "                        <td id=\"T_1a9642c4_a5d5_11e9_ac43_8c85904174b4row2_col0\" class=\"data row2 col0\" >1.40</td>\n",
       "                        <td id=\"T_1a9642c4_a5d5_11e9_ac43_8c85904174b4row2_col1\" class=\"data row2 col1\" >8</td>\n",
       "            </tr>\n",
       "    </tbody></table>"
      ],
      "text/plain": [
       "<pandas.io.formats.style.Styler at 0x1149ae518>"
      ]
     },
     "execution_count": 4,
     "metadata": {},
     "output_type": "execute_result"
    }
   ],
   "source": [
    "#Group purchase_data by Gender\n",
    "gender_stats = purchase_data.groupby(\"Gender\")\n",
    "\n",
    "#Count the total of screen lists named \"SN\" by gender\n",
    "total_count_gender = gender_stats.nunique()[\"SN\"]\n",
    "\n",
    "#Total count by gender and diving by total players\n",
    "percentage_of_players = total_count_gender / total_players * 100\n",
    "\n",
    "#Create data frame with values obtained\n",
    "gender_demographics = pd.DataFrame({\"Percentage of Players\": percentage_of_players, \"Total Count\": total_count_gender})\n",
    "\n",
    "#Format data frame with no index name in the corner\n",
    "gender_demographics.index.name = None\n",
    "\n",
    "#Format the value sorted by total count in decending order, and two decimal places for the percentage\n",
    "gender_demographics.sort_values([\"Total Count\"], ascending = False).style.format({\"Percentage of Players\":\"{:.2f}\"})"
   ]
  },
  {
   "cell_type": "markdown",
   "metadata": {},
   "source": [
    "\n",
    "## Purchasing Analysis (Gender)"
   ]
  },
  {
   "cell_type": "markdown",
   "metadata": {},
   "source": [
    "* Run basic calculations to obtain purchase count, avg. purchase price, avg. purchase total per person etc. by gender\n",
    "\n",
    "\n",
    "\n",
    "\n",
    "* Create a summary data frame to hold the results\n",
    "\n",
    "\n",
    "* Optional: give the displayed data cleaner formatting\n",
    "\n",
    "\n",
    "* Display the summary data frame"
   ]
  },
  {
   "cell_type": "code",
   "execution_count": 5,
   "metadata": {},
   "outputs": [
    {
     "data": {
      "text/html": [
       "<style  type=\"text/css\" >\n",
       "</style><table id=\"T_1a981c16_a5d5_11e9_ac43_8c85904174b4\" ><thead>    <tr>        <th class=\"blank level0\" ></th>        <th class=\"col_heading level0 col0\" >Purchase Count</th>        <th class=\"col_heading level0 col1\" >Average Purchase Price</th>        <th class=\"col_heading level0 col2\" >Average Purchase Value</th>        <th class=\"col_heading level0 col3\" >Avg Purchase Total per Person</th>    </tr>    <tr>        <th class=\"index_name level0\" >Gender</th>        <th class=\"blank\" ></th>        <th class=\"blank\" ></th>        <th class=\"blank\" ></th>        <th class=\"blank\" ></th>    </tr></thead><tbody>\n",
       "                <tr>\n",
       "                        <th id=\"T_1a981c16_a5d5_11e9_ac43_8c85904174b4level0_row0\" class=\"row_heading level0 row0\" >Female</th>\n",
       "                        <td id=\"T_1a981c16_a5d5_11e9_ac43_8c85904174b4row0_col0\" class=\"data row0 col0\" >136</td>\n",
       "                        <td id=\"T_1a981c16_a5d5_11e9_ac43_8c85904174b4row0_col1\" class=\"data row0 col1\" >$2.82</td>\n",
       "                        <td id=\"T_1a981c16_a5d5_11e9_ac43_8c85904174b4row0_col2\" class=\"data row0 col2\" >$382.91</td>\n",
       "                        <td id=\"T_1a981c16_a5d5_11e9_ac43_8c85904174b4row0_col3\" class=\"data row0 col3\" >$3.83</td>\n",
       "            </tr>\n",
       "            <tr>\n",
       "                        <th id=\"T_1a981c16_a5d5_11e9_ac43_8c85904174b4level0_row1\" class=\"row_heading level0 row1\" >Male</th>\n",
       "                        <td id=\"T_1a981c16_a5d5_11e9_ac43_8c85904174b4row1_col0\" class=\"data row1 col0\" >633</td>\n",
       "                        <td id=\"T_1a981c16_a5d5_11e9_ac43_8c85904174b4row1_col1\" class=\"data row1 col1\" >$2.95</td>\n",
       "                        <td id=\"T_1a981c16_a5d5_11e9_ac43_8c85904174b4row1_col2\" class=\"data row1 col2\" >$1,867.68</td>\n",
       "                        <td id=\"T_1a981c16_a5d5_11e9_ac43_8c85904174b4row1_col3\" class=\"data row1 col3\" >$4.02</td>\n",
       "            </tr>\n",
       "            <tr>\n",
       "                        <th id=\"T_1a981c16_a5d5_11e9_ac43_8c85904174b4level0_row2\" class=\"row_heading level0 row2\" >Other / Non-Disclosed</th>\n",
       "                        <td id=\"T_1a981c16_a5d5_11e9_ac43_8c85904174b4row2_col0\" class=\"data row2 col0\" >11</td>\n",
       "                        <td id=\"T_1a981c16_a5d5_11e9_ac43_8c85904174b4row2_col1\" class=\"data row2 col1\" >$3.25</td>\n",
       "                        <td id=\"T_1a981c16_a5d5_11e9_ac43_8c85904174b4row2_col2\" class=\"data row2 col2\" >$35.74</td>\n",
       "                        <td id=\"T_1a981c16_a5d5_11e9_ac43_8c85904174b4row2_col3\" class=\"data row2 col3\" >$4.47</td>\n",
       "            </tr>\n",
       "    </tbody></table>"
      ],
      "text/plain": [
       "<pandas.io.formats.style.Styler at 0x1149b7ac8>"
      ]
     },
     "execution_count": 5,
     "metadata": {},
     "output_type": "execute_result"
    }
   ],
   "source": [
    "#Basic Calculation run\n",
    "# Count the total purchases by gender \n",
    "purchase_count = gender_stats[\"Gender\"].count()\n",
    "\n",
    "# Average purchase prices by gender\n",
    "avg_purchase_price = gender_stats[\"Price\"].mean()\n",
    "\n",
    "# Average purchase prices by total gender \n",
    "avg_purchase_total = gender_stats[\"Price\"].sum()\n",
    "\n",
    "# Average purchase total of gender divivded by purchase count by unique shoppers\n",
    "avg_purchase_per_person = avg_purchase_total/total_count_gender\n",
    "\n",
    "# Create data frame with values obtained\n",
    "gender_demographics = pd.DataFrame({\"Purchase Count\": purchase_count, \n",
    "                                    \"Average Purchase Price\": avg_purchase_price,\n",
    "                                    \"Average Purchase Value\":avg_purchase_total,\n",
    "                                    \"Avg Purchase Total per Person\": avg_purchase_per_person})\n",
    "\n",
    "# Provide index in top left as \"Gender\"\n",
    "gender_demographics.index.name = \"Gender\"\n",
    "\n",
    "# Format with currency style\n",
    "gender_demographics.style.format({\"Average Purchase Value\":\"${:,.2f}\",\n",
    "                                  \"Average Purchase Price\":\"${:,.2f}\",\n",
    "                                  \"Avg Purchase Total per Person\":\"${:,.2f}\"})"
   ]
  },
  {
   "cell_type": "markdown",
   "metadata": {},
   "source": [
    "## Age Demographics"
   ]
  },
  {
   "cell_type": "markdown",
   "metadata": {},
   "source": [
    "* Establish bins for ages\n",
    "\n",
    "\n",
    "* Categorize the existing players using the age bins. Hint: use pd.cut()\n",
    "\n",
    "\n",
    "* Calculate the numbers and percentages by age group\n",
    "\n",
    "\n",
    "* Create a summary data frame to hold the results\n",
    "\n",
    "\n",
    "* Optional: round the percentage column to two decimal points\n",
    "\n",
    "\n",
    "* Display Age Demographics Table\n"
   ]
  },
  {
   "cell_type": "code",
   "execution_count": 6,
   "metadata": {},
   "outputs": [
    {
     "data": {
      "text/html": [
       "<style  type=\"text/css\" >\n",
       "</style><table id=\"T_1a9b6d1c_a5d5_11e9_ac43_8c85904174b4\" ><thead>    <tr>        <th class=\"blank level0\" ></th>        <th class=\"col_heading level0 col0\" >Percentage of Players</th>        <th class=\"col_heading level0 col1\" >Total Count</th>    </tr></thead><tbody>\n",
       "                <tr>\n",
       "                        <th id=\"T_1a9b6d1c_a5d5_11e9_ac43_8c85904174b4level0_row0\" class=\"row_heading level0 row0\" ><10</th>\n",
       "                        <td id=\"T_1a9b6d1c_a5d5_11e9_ac43_8c85904174b4row0_col0\" class=\"data row0 col0\" >3.32</td>\n",
       "                        <td id=\"T_1a9b6d1c_a5d5_11e9_ac43_8c85904174b4row0_col1\" class=\"data row0 col1\" >19</td>\n",
       "            </tr>\n",
       "            <tr>\n",
       "                        <th id=\"T_1a9b6d1c_a5d5_11e9_ac43_8c85904174b4level0_row1\" class=\"row_heading level0 row1\" >10-14</th>\n",
       "                        <td id=\"T_1a9b6d1c_a5d5_11e9_ac43_8c85904174b4row1_col0\" class=\"data row1 col0\" >4.01</td>\n",
       "                        <td id=\"T_1a9b6d1c_a5d5_11e9_ac43_8c85904174b4row1_col1\" class=\"data row1 col1\" >23</td>\n",
       "            </tr>\n",
       "            <tr>\n",
       "                        <th id=\"T_1a9b6d1c_a5d5_11e9_ac43_8c85904174b4level0_row2\" class=\"row_heading level0 row2\" >15-19</th>\n",
       "                        <td id=\"T_1a9b6d1c_a5d5_11e9_ac43_8c85904174b4row2_col0\" class=\"data row2 col0\" >17.45</td>\n",
       "                        <td id=\"T_1a9b6d1c_a5d5_11e9_ac43_8c85904174b4row2_col1\" class=\"data row2 col1\" >100</td>\n",
       "            </tr>\n",
       "            <tr>\n",
       "                        <th id=\"T_1a9b6d1c_a5d5_11e9_ac43_8c85904174b4level0_row3\" class=\"row_heading level0 row3\" >20-24</th>\n",
       "                        <td id=\"T_1a9b6d1c_a5d5_11e9_ac43_8c85904174b4row3_col0\" class=\"data row3 col0\" >45.20</td>\n",
       "                        <td id=\"T_1a9b6d1c_a5d5_11e9_ac43_8c85904174b4row3_col1\" class=\"data row3 col1\" >259</td>\n",
       "            </tr>\n",
       "            <tr>\n",
       "                        <th id=\"T_1a9b6d1c_a5d5_11e9_ac43_8c85904174b4level0_row4\" class=\"row_heading level0 row4\" >25-29</th>\n",
       "                        <td id=\"T_1a9b6d1c_a5d5_11e9_ac43_8c85904174b4row4_col0\" class=\"data row4 col0\" >15.18</td>\n",
       "                        <td id=\"T_1a9b6d1c_a5d5_11e9_ac43_8c85904174b4row4_col1\" class=\"data row4 col1\" >87</td>\n",
       "            </tr>\n",
       "            <tr>\n",
       "                        <th id=\"T_1a9b6d1c_a5d5_11e9_ac43_8c85904174b4level0_row5\" class=\"row_heading level0 row5\" >30-34</th>\n",
       "                        <td id=\"T_1a9b6d1c_a5d5_11e9_ac43_8c85904174b4row5_col0\" class=\"data row5 col0\" >8.20</td>\n",
       "                        <td id=\"T_1a9b6d1c_a5d5_11e9_ac43_8c85904174b4row5_col1\" class=\"data row5 col1\" >47</td>\n",
       "            </tr>\n",
       "            <tr>\n",
       "                        <th id=\"T_1a9b6d1c_a5d5_11e9_ac43_8c85904174b4level0_row6\" class=\"row_heading level0 row6\" >35-39</th>\n",
       "                        <td id=\"T_1a9b6d1c_a5d5_11e9_ac43_8c85904174b4row6_col0\" class=\"data row6 col0\" >4.71</td>\n",
       "                        <td id=\"T_1a9b6d1c_a5d5_11e9_ac43_8c85904174b4row6_col1\" class=\"data row6 col1\" >27</td>\n",
       "            </tr>\n",
       "            <tr>\n",
       "                        <th id=\"T_1a9b6d1c_a5d5_11e9_ac43_8c85904174b4level0_row7\" class=\"row_heading level0 row7\" >40></th>\n",
       "                        <td id=\"T_1a9b6d1c_a5d5_11e9_ac43_8c85904174b4row7_col0\" class=\"data row7 col0\" >1.92</td>\n",
       "                        <td id=\"T_1a9b6d1c_a5d5_11e9_ac43_8c85904174b4row7_col1\" class=\"data row7 col1\" >11</td>\n",
       "            </tr>\n",
       "    </tbody></table>"
      ],
      "text/plain": [
       "<pandas.io.formats.style.Styler at 0x115b69550>"
      ]
     },
     "execution_count": 6,
     "metadata": {},
     "output_type": "execute_result"
    }
   ],
   "source": [
    "#Age Demographics\n",
    "#Establish bins for ages\n",
    "age_bins = [0, 9.90, 14.90, 19.90, 24.90, 29.90, 34.90, 39.90, 99999]\n",
    "group_names = [\"<10\", \"10-14\", \"15-19\", \"20-24\", \"25-29\", \"30-34\", \"35-39\", \"40>\"]\n",
    "\n",
    "# Segment and sort age values into bins established above\n",
    "purchase_data[\"Age Group\"] = pd.cut(purchase_data[\"Age\"],age_bins, labels=group_names)\n",
    "purchase_data\n",
    "\n",
    "# Create new data frame with the added \"Age Group\" and group it\n",
    "age_grouped = purchase_data.groupby(\"Age Group\")\n",
    "\n",
    "# Count total players by age category\n",
    "total_count_age = age_grouped[\"SN\"].nunique()\n",
    "\n",
    "# Calculate percentages by age category \n",
    "percentage_by_age = (total_count_age/total_players) * 100\n",
    "\n",
    "# Create data frame with obtained values\n",
    "age_demographics = pd.DataFrame({\"Percentage of Players\": percentage_by_age, \"Total Count\": total_count_age})\n",
    "\n",
    "# Format the data frame with no index name in the corner\n",
    "age_demographics.index.name = None\n",
    "\n",
    "# Format percentage with two decimal places \n",
    "age_demographics.style.format({\"Percentage of Players\":\"{:,.2f}\"})"
   ]
  },
  {
   "cell_type": "markdown",
   "metadata": {},
   "source": [
    "## Purchasing Analysis (Age)"
   ]
  },
  {
   "cell_type": "markdown",
   "metadata": {},
   "source": [
    "* Bin the purchase_data data frame by age\n",
    "\n",
    "\n",
    "* Run basic calculations to obtain purchase count, avg. purchase price, avg. purchase total per person etc. in the table below\n",
    "\n",
    "\n",
    "* Create a summary data frame to hold the results\n",
    "\n",
    "\n",
    "* Optional: give the displayed data cleaner formatting\n",
    "\n",
    "\n",
    "* Display the summary data frame"
   ]
  },
  {
   "cell_type": "code",
   "execution_count": 7,
   "metadata": {},
   "outputs": [
    {
     "data": {
      "text/html": [
       "<style  type=\"text/css\" >\n",
       "</style><table id=\"T_1a9d853e_a5d5_11e9_ac43_8c85904174b4\" ><thead>    <tr>        <th class=\"blank level0\" ></th>        <th class=\"col_heading level0 col0\" >Purchase Count</th>        <th class=\"col_heading level0 col1\" >Average Purchase Price</th>        <th class=\"col_heading level0 col2\" >Total Purchase Value</th>        <th class=\"col_heading level0 col3\" >Average Purchase Total per Person</th>    </tr></thead><tbody>\n",
       "                <tr>\n",
       "                        <th id=\"T_1a9d853e_a5d5_11e9_ac43_8c85904174b4level0_row0\" class=\"row_heading level0 row0\" ><10</th>\n",
       "                        <td id=\"T_1a9d853e_a5d5_11e9_ac43_8c85904174b4row0_col0\" class=\"data row0 col0\" >28</td>\n",
       "                        <td id=\"T_1a9d853e_a5d5_11e9_ac43_8c85904174b4row0_col1\" class=\"data row0 col1\" >$2.98</td>\n",
       "                        <td id=\"T_1a9d853e_a5d5_11e9_ac43_8c85904174b4row0_col2\" class=\"data row0 col2\" >$83.46</td>\n",
       "                        <td id=\"T_1a9d853e_a5d5_11e9_ac43_8c85904174b4row0_col3\" class=\"data row0 col3\" >$4.39</td>\n",
       "            </tr>\n",
       "            <tr>\n",
       "                        <th id=\"T_1a9d853e_a5d5_11e9_ac43_8c85904174b4level0_row1\" class=\"row_heading level0 row1\" >10-14</th>\n",
       "                        <td id=\"T_1a9d853e_a5d5_11e9_ac43_8c85904174b4row1_col0\" class=\"data row1 col0\" >35</td>\n",
       "                        <td id=\"T_1a9d853e_a5d5_11e9_ac43_8c85904174b4row1_col1\" class=\"data row1 col1\" >$2.77</td>\n",
       "                        <td id=\"T_1a9d853e_a5d5_11e9_ac43_8c85904174b4row1_col2\" class=\"data row1 col2\" >$96.95</td>\n",
       "                        <td id=\"T_1a9d853e_a5d5_11e9_ac43_8c85904174b4row1_col3\" class=\"data row1 col3\" >$4.22</td>\n",
       "            </tr>\n",
       "            <tr>\n",
       "                        <th id=\"T_1a9d853e_a5d5_11e9_ac43_8c85904174b4level0_row2\" class=\"row_heading level0 row2\" >15-19</th>\n",
       "                        <td id=\"T_1a9d853e_a5d5_11e9_ac43_8c85904174b4row2_col0\" class=\"data row2 col0\" >133</td>\n",
       "                        <td id=\"T_1a9d853e_a5d5_11e9_ac43_8c85904174b4row2_col1\" class=\"data row2 col1\" >$2.91</td>\n",
       "                        <td id=\"T_1a9d853e_a5d5_11e9_ac43_8c85904174b4row2_col2\" class=\"data row2 col2\" >$386.42</td>\n",
       "                        <td id=\"T_1a9d853e_a5d5_11e9_ac43_8c85904174b4row2_col3\" class=\"data row2 col3\" >$3.86</td>\n",
       "            </tr>\n",
       "            <tr>\n",
       "                        <th id=\"T_1a9d853e_a5d5_11e9_ac43_8c85904174b4level0_row3\" class=\"row_heading level0 row3\" >20-24</th>\n",
       "                        <td id=\"T_1a9d853e_a5d5_11e9_ac43_8c85904174b4row3_col0\" class=\"data row3 col0\" >336</td>\n",
       "                        <td id=\"T_1a9d853e_a5d5_11e9_ac43_8c85904174b4row3_col1\" class=\"data row3 col1\" >$2.91</td>\n",
       "                        <td id=\"T_1a9d853e_a5d5_11e9_ac43_8c85904174b4row3_col2\" class=\"data row3 col2\" >$978.77</td>\n",
       "                        <td id=\"T_1a9d853e_a5d5_11e9_ac43_8c85904174b4row3_col3\" class=\"data row3 col3\" >$3.78</td>\n",
       "            </tr>\n",
       "            <tr>\n",
       "                        <th id=\"T_1a9d853e_a5d5_11e9_ac43_8c85904174b4level0_row4\" class=\"row_heading level0 row4\" >25-29</th>\n",
       "                        <td id=\"T_1a9d853e_a5d5_11e9_ac43_8c85904174b4row4_col0\" class=\"data row4 col0\" >125</td>\n",
       "                        <td id=\"T_1a9d853e_a5d5_11e9_ac43_8c85904174b4row4_col1\" class=\"data row4 col1\" >$2.96</td>\n",
       "                        <td id=\"T_1a9d853e_a5d5_11e9_ac43_8c85904174b4row4_col2\" class=\"data row4 col2\" >$370.33</td>\n",
       "                        <td id=\"T_1a9d853e_a5d5_11e9_ac43_8c85904174b4row4_col3\" class=\"data row4 col3\" >$4.26</td>\n",
       "            </tr>\n",
       "            <tr>\n",
       "                        <th id=\"T_1a9d853e_a5d5_11e9_ac43_8c85904174b4level0_row5\" class=\"row_heading level0 row5\" >30-34</th>\n",
       "                        <td id=\"T_1a9d853e_a5d5_11e9_ac43_8c85904174b4row5_col0\" class=\"data row5 col0\" >64</td>\n",
       "                        <td id=\"T_1a9d853e_a5d5_11e9_ac43_8c85904174b4row5_col1\" class=\"data row5 col1\" >$3.08</td>\n",
       "                        <td id=\"T_1a9d853e_a5d5_11e9_ac43_8c85904174b4row5_col2\" class=\"data row5 col2\" >$197.25</td>\n",
       "                        <td id=\"T_1a9d853e_a5d5_11e9_ac43_8c85904174b4row5_col3\" class=\"data row5 col3\" >$4.20</td>\n",
       "            </tr>\n",
       "            <tr>\n",
       "                        <th id=\"T_1a9d853e_a5d5_11e9_ac43_8c85904174b4level0_row6\" class=\"row_heading level0 row6\" >35-39</th>\n",
       "                        <td id=\"T_1a9d853e_a5d5_11e9_ac43_8c85904174b4row6_col0\" class=\"data row6 col0\" >42</td>\n",
       "                        <td id=\"T_1a9d853e_a5d5_11e9_ac43_8c85904174b4row6_col1\" class=\"data row6 col1\" >$2.84</td>\n",
       "                        <td id=\"T_1a9d853e_a5d5_11e9_ac43_8c85904174b4row6_col2\" class=\"data row6 col2\" >$119.40</td>\n",
       "                        <td id=\"T_1a9d853e_a5d5_11e9_ac43_8c85904174b4row6_col3\" class=\"data row6 col3\" >$4.42</td>\n",
       "            </tr>\n",
       "            <tr>\n",
       "                        <th id=\"T_1a9d853e_a5d5_11e9_ac43_8c85904174b4level0_row7\" class=\"row_heading level0 row7\" >40></th>\n",
       "                        <td id=\"T_1a9d853e_a5d5_11e9_ac43_8c85904174b4row7_col0\" class=\"data row7 col0\" >17</td>\n",
       "                        <td id=\"T_1a9d853e_a5d5_11e9_ac43_8c85904174b4row7_col1\" class=\"data row7 col1\" >$3.16</td>\n",
       "                        <td id=\"T_1a9d853e_a5d5_11e9_ac43_8c85904174b4row7_col2\" class=\"data row7 col2\" >$53.75</td>\n",
       "                        <td id=\"T_1a9d853e_a5d5_11e9_ac43_8c85904174b4row7_col3\" class=\"data row7 col3\" >$4.89</td>\n",
       "            </tr>\n",
       "    </tbody></table>"
      ],
      "text/plain": [
       "<pandas.io.formats.style.Styler at 0x1149aa860>"
      ]
     },
     "execution_count": 7,
     "metadata": {},
     "output_type": "execute_result"
    }
   ],
   "source": [
    "#Purchasing analysis (Age)\n",
    "#Run basic calculation\n",
    "# Count purchase by age group\n",
    "purchase_count_age = age_grouped[\"Age\"].count()\n",
    "\n",
    "# Obtain average purchase price by age group \n",
    "avg_purchase_price_age = age_grouped[\"Price\"].mean()\n",
    "\n",
    "# Calculate total purchase value by age group \n",
    "total_purchase_value = age_grouped[\"Price\"].sum()\n",
    "\n",
    "# Calculate the average purchase per person in the age group \n",
    "avg_purchase_per_person_age = total_purchase_value/total_count_age\n",
    "\n",
    "# Create data frame with values obtained\n",
    "age_demographics = pd.DataFrame({\"Purchase Count\": purchase_count_age,\n",
    "                                 \"Average Purchase Price\": avg_purchase_price_age,\n",
    "                                 \"Total Purchase Value\":total_purchase_value,\n",
    "                                 \"Average Purchase Total per Person\": avg_purchase_per_person_age})\n",
    "\n",
    "# Format the data frame with no index name in the corner\n",
    "age_demographics.index.name = None\n",
    "\n",
    "# Format with currency style\n",
    "age_demographics.style.format({\"Average Purchase Price\":\"${:,.2f}\",\n",
    "                               \"Total Purchase Value\":\"${:,.2f}\",\n",
    "                               \"Average Purchase Total per Person\":\"${:,.2f}\"})"
   ]
  },
  {
   "cell_type": "markdown",
   "metadata": {},
   "source": [
    "## Top Spenders"
   ]
  },
  {
   "cell_type": "markdown",
   "metadata": {},
   "source": [
    "* Run basic calculations to obtain the results in the table below\n",
    "\n",
    "\n",
    "* Create a summary data frame to hold the results\n",
    "\n",
    "\n",
    "* Sort the total purchase value column in descending order\n",
    "\n",
    "\n",
    "* Optional: give the displayed data cleaner formatting\n",
    "\n",
    "\n",
    "* Display a preview of the summary data frame\n",
    "\n"
   ]
  },
  {
   "cell_type": "code",
   "execution_count": 8,
   "metadata": {},
   "outputs": [
    {
     "data": {
      "text/html": [
       "<div>\n",
       "<style scoped>\n",
       "    .dataframe tbody tr th:only-of-type {\n",
       "        vertical-align: middle;\n",
       "    }\n",
       "\n",
       "    .dataframe tbody tr th {\n",
       "        vertical-align: top;\n",
       "    }\n",
       "\n",
       "    .dataframe thead th {\n",
       "        text-align: right;\n",
       "    }\n",
       "</style>\n",
       "<table border=\"1\" class=\"dataframe\">\n",
       "  <thead>\n",
       "    <tr style=\"text-align: right;\">\n",
       "      <th></th>\n",
       "      <th>Total Purchase Value</th>\n",
       "      <th>Average Purchase Value</th>\n",
       "      <th>Purchase Count</th>\n",
       "    </tr>\n",
       "    <tr>\n",
       "      <th>SN</th>\n",
       "      <th></th>\n",
       "      <th></th>\n",
       "      <th></th>\n",
       "    </tr>\n",
       "  </thead>\n",
       "  <tbody>\n",
       "    <tr>\n",
       "      <th>Undirrala66</th>\n",
       "      <td>17.06</td>\n",
       "      <td>3.412000</td>\n",
       "      <td>5</td>\n",
       "    </tr>\n",
       "    <tr>\n",
       "      <th>Saedue76</th>\n",
       "      <td>13.56</td>\n",
       "      <td>3.390000</td>\n",
       "      <td>4</td>\n",
       "    </tr>\n",
       "    <tr>\n",
       "      <th>Mindimnya67</th>\n",
       "      <td>12.74</td>\n",
       "      <td>3.185000</td>\n",
       "      <td>4</td>\n",
       "    </tr>\n",
       "    <tr>\n",
       "      <th>Haellysu29</th>\n",
       "      <td>12.73</td>\n",
       "      <td>4.243333</td>\n",
       "      <td>3</td>\n",
       "    </tr>\n",
       "    <tr>\n",
       "      <th>Eoda93</th>\n",
       "      <td>11.58</td>\n",
       "      <td>3.860000</td>\n",
       "      <td>3</td>\n",
       "    </tr>\n",
       "  </tbody>\n",
       "</table>\n",
       "</div>"
      ],
      "text/plain": [
       "             Total Purchase Value  Average Purchase Value  Purchase Count\n",
       "SN                                                                       \n",
       "Undirrala66                 17.06                3.412000               5\n",
       "Saedue76                    13.56                3.390000               4\n",
       "Mindimnya67                 12.74                3.185000               4\n",
       "Haellysu29                  12.73                4.243333               3\n",
       "Eoda93                      11.58                3.860000               3"
      ]
     },
     "execution_count": 8,
     "metadata": {},
     "output_type": "execute_result"
    }
   ],
   "source": [
    "#Top Spenders\n",
    "#Run basic calculation\n",
    "user_total = purchase_data.groupby([\"SN\"]).sum()[\"Price\"].rename(\"Total Purchase Value\")\n",
    "user_average = purchase_data.groupby([\"SN\"]).mean()[\"Price\"].rename(\"Average Purchase Price\")\n",
    "user_count = purchase_data.groupby([\"SN\"]).count()[\"Price\"].rename(\"Purchase Count\")\n",
    "\n",
    "user_data = pd.DataFrame({\"Total Purchase Value\": user_total,\n",
    "                          \"Average Purchase Value\": user_average,\n",
    "                          \"Purchase Count\": user_count})\n",
    "\n",
    "# # Sort in descending order to obtain top spenders names \n",
    "user_data.sort_values(\"Total Purchase Value\", ascending=False).head(5)"
   ]
  },
  {
   "cell_type": "markdown",
   "metadata": {},
   "source": [
    "## Most Popular Items"
   ]
  },
  {
   "cell_type": "markdown",
   "metadata": {},
   "source": [
    "* Retrieve the Item ID, Item Name, and Item Price columns\n",
    "\n",
    "\n",
    "* Group by Item ID and Item Name. Perform calculations to obtain purchase count, item price, and total purchase value\n",
    "\n",
    "\n",
    "* Create a summary data frame to hold the results\n",
    "\n",
    "\n",
    "* Sort the purchase count column in descending order\n",
    "\n",
    "\n",
    "* Optional: give the displayed data cleaner formatting\n",
    "\n",
    "\n",
    "* Display a preview of the summary data frame\n",
    "\n"
   ]
  },
  {
   "cell_type": "code",
   "execution_count": 9,
   "metadata": {},
   "outputs": [
    {
     "data": {
      "text/html": [
       "<style  type=\"text/css\" >\n",
       "</style><table id=\"T_1aa78886_a5d5_11e9_ac43_8c85904174b4\" ><thead>    <tr>        <th class=\"blank\" ></th>        <th class=\"blank level0\" ></th>        <th class=\"col_heading level0 col0\" >Purchase Count</th>        <th class=\"col_heading level0 col1\" >Item Price</th>        <th class=\"col_heading level0 col2\" >Total Purchase Value</th>    </tr>    <tr>        <th class=\"index_name level0\" >Item ID</th>        <th class=\"index_name level1\" >Item Name</th>        <th class=\"blank\" ></th>        <th class=\"blank\" ></th>        <th class=\"blank\" ></th>    </tr></thead><tbody>\n",
       "                <tr>\n",
       "                        <th id=\"T_1aa78886_a5d5_11e9_ac43_8c85904174b4level0_row0\" class=\"row_heading level0 row0\" >39</th>\n",
       "                        <th id=\"T_1aa78886_a5d5_11e9_ac43_8c85904174b4level1_row0\" class=\"row_heading level1 row0\" >Betrayal, Whisper of Grieving Widows</th>\n",
       "                        <td id=\"T_1aa78886_a5d5_11e9_ac43_8c85904174b4row0_col0\" class=\"data row0 col0\" >11</td>\n",
       "                        <td id=\"T_1aa78886_a5d5_11e9_ac43_8c85904174b4row0_col1\" class=\"data row0 col1\" >$2.35</td>\n",
       "                        <td id=\"T_1aa78886_a5d5_11e9_ac43_8c85904174b4row0_col2\" class=\"data row0 col2\" >$25.85</td>\n",
       "            </tr>\n",
       "            <tr>\n",
       "                        <th id=\"T_1aa78886_a5d5_11e9_ac43_8c85904174b4level0_row1\" class=\"row_heading level0 row1\" >84</th>\n",
       "                        <th id=\"T_1aa78886_a5d5_11e9_ac43_8c85904174b4level1_row1\" class=\"row_heading level1 row1\" >Arcane Gem</th>\n",
       "                        <td id=\"T_1aa78886_a5d5_11e9_ac43_8c85904174b4row1_col0\" class=\"data row1 col0\" >11</td>\n",
       "                        <td id=\"T_1aa78886_a5d5_11e9_ac43_8c85904174b4row1_col1\" class=\"data row1 col1\" >$2.23</td>\n",
       "                        <td id=\"T_1aa78886_a5d5_11e9_ac43_8c85904174b4row1_col2\" class=\"data row1 col2\" >$24.53</td>\n",
       "            </tr>\n",
       "            <tr>\n",
       "                        <th id=\"T_1aa78886_a5d5_11e9_ac43_8c85904174b4level0_row2\" class=\"row_heading level0 row2\" >31</th>\n",
       "                        <th id=\"T_1aa78886_a5d5_11e9_ac43_8c85904174b4level1_row2\" class=\"row_heading level1 row2\" >Trickster</th>\n",
       "                        <td id=\"T_1aa78886_a5d5_11e9_ac43_8c85904174b4row2_col0\" class=\"data row2 col0\" >9</td>\n",
       "                        <td id=\"T_1aa78886_a5d5_11e9_ac43_8c85904174b4row2_col1\" class=\"data row2 col1\" >$2.07</td>\n",
       "                        <td id=\"T_1aa78886_a5d5_11e9_ac43_8c85904174b4row2_col2\" class=\"data row2 col2\" >$18.63</td>\n",
       "            </tr>\n",
       "            <tr>\n",
       "                        <th id=\"T_1aa78886_a5d5_11e9_ac43_8c85904174b4level0_row3\" class=\"row_heading level0 row3\" >175</th>\n",
       "                        <th id=\"T_1aa78886_a5d5_11e9_ac43_8c85904174b4level1_row3\" class=\"row_heading level1 row3\" >Woeful Adamantite Claymore</th>\n",
       "                        <td id=\"T_1aa78886_a5d5_11e9_ac43_8c85904174b4row3_col0\" class=\"data row3 col0\" >9</td>\n",
       "                        <td id=\"T_1aa78886_a5d5_11e9_ac43_8c85904174b4row3_col1\" class=\"data row3 col1\" >$1.24</td>\n",
       "                        <td id=\"T_1aa78886_a5d5_11e9_ac43_8c85904174b4row3_col2\" class=\"data row3 col2\" >$11.16</td>\n",
       "            </tr>\n",
       "            <tr>\n",
       "                        <th id=\"T_1aa78886_a5d5_11e9_ac43_8c85904174b4level0_row4\" class=\"row_heading level0 row4\" >13</th>\n",
       "                        <th id=\"T_1aa78886_a5d5_11e9_ac43_8c85904174b4level1_row4\" class=\"row_heading level1 row4\" >Serenity</th>\n",
       "                        <td id=\"T_1aa78886_a5d5_11e9_ac43_8c85904174b4row4_col0\" class=\"data row4 col0\" >9</td>\n",
       "                        <td id=\"T_1aa78886_a5d5_11e9_ac43_8c85904174b4row4_col1\" class=\"data row4 col1\" >$1.49</td>\n",
       "                        <td id=\"T_1aa78886_a5d5_11e9_ac43_8c85904174b4row4_col2\" class=\"data row4 col2\" >$13.41</td>\n",
       "            </tr>\n",
       "    </tbody></table>"
      ],
      "text/plain": [
       "<pandas.io.formats.style.Styler at 0x115b60cf8>"
      ]
     },
     "execution_count": 9,
     "metadata": {},
     "output_type": "execute_result"
    }
   ],
   "source": [
    "#Most popular items\n",
    "# Create new data frame with items related \n",
    "items = purchase_data[[\"Item ID\", \"Item Name\", \"Price\"]]\n",
    "\n",
    "# Group the items data by item id and item name \n",
    "item_stats = items.groupby([\"Item ID\",\"Item Name\"])\n",
    "\n",
    "# Count the number of times an item has been purchased \n",
    "purchase_count_item = item_stats[\"Price\"].count()\n",
    "\n",
    "# Calcualte the purchase value per item \n",
    "purchase_value = (item_stats[\"Price\"].sum()) \n",
    "\n",
    "# Find individual item price by dividing purchase value by purchase count\n",
    "item_price = purchase_value/purchase_count_item\n",
    "\n",
    "# Create data frame with values obtained\n",
    "most_popular_items = pd.DataFrame({\"Purchase Count\": purchase_count_item, \n",
    "                                   \"Item Price\": item_price,\n",
    "                                   \"Total Purchase Value\":purchase_value})\n",
    "\n",
    "# Sort in descending order to obtain top spender names and provide top 5 item names\n",
    "popular_formatted = most_popular_items.sort_values([\"Purchase Count\"], ascending=False).head()\n",
    "\n",
    "# Format with currency style\n",
    "popular_formatted.style.format({\"Item Price\":\"${:,.2f}\",\n",
    "                                \"Total Purchase Value\":\"${:,.2f}\"})\n"
   ]
  },
  {
   "cell_type": "markdown",
   "metadata": {},
   "source": [
    "## Most Profitable Items"
   ]
  },
  {
   "cell_type": "markdown",
   "metadata": {},
   "source": [
    "* Sort the above table by total purchase value in descending order\n",
    "\n",
    "\n",
    "* Optional: give the displayed data cleaner formatting\n",
    "\n",
    "\n",
    "* Display a preview of the data frame\n",
    "\n"
   ]
  },
  {
   "cell_type": "code",
   "execution_count": 10,
   "metadata": {},
   "outputs": [
    {
     "data": {
      "text/html": [
       "<style  type=\"text/css\" >\n",
       "</style><table id=\"T_1aaa868a_a5d5_11e9_ac43_8c85904174b4\" ><thead>    <tr>        <th class=\"blank\" ></th>        <th class=\"blank level0\" ></th>        <th class=\"col_heading level0 col0\" >Purchase Count</th>        <th class=\"col_heading level0 col1\" >Item Price</th>        <th class=\"col_heading level0 col2\" >Total Purchase Value</th>    </tr>    <tr>        <th class=\"index_name level0\" >Item ID</th>        <th class=\"index_name level1\" >Item Name</th>        <th class=\"blank\" ></th>        <th class=\"blank\" ></th>        <th class=\"blank\" ></th>    </tr></thead><tbody>\n",
       "                <tr>\n",
       "                        <th id=\"T_1aaa868a_a5d5_11e9_ac43_8c85904174b4level0_row0\" class=\"row_heading level0 row0\" >34</th>\n",
       "                        <th id=\"T_1aaa868a_a5d5_11e9_ac43_8c85904174b4level1_row0\" class=\"row_heading level1 row0\" >Retribution Axe</th>\n",
       "                        <td id=\"T_1aaa868a_a5d5_11e9_ac43_8c85904174b4row0_col0\" class=\"data row0 col0\" >9</td>\n",
       "                        <td id=\"T_1aaa868a_a5d5_11e9_ac43_8c85904174b4row0_col1\" class=\"data row0 col1\" >$4.14</td>\n",
       "                        <td id=\"T_1aaa868a_a5d5_11e9_ac43_8c85904174b4row0_col2\" class=\"data row0 col2\" >$37.26</td>\n",
       "            </tr>\n",
       "            <tr>\n",
       "                        <th id=\"T_1aaa868a_a5d5_11e9_ac43_8c85904174b4level0_row1\" class=\"row_heading level0 row1\" >115</th>\n",
       "                        <th id=\"T_1aaa868a_a5d5_11e9_ac43_8c85904174b4level1_row1\" class=\"row_heading level1 row1\" >Spectral Diamond Doomblade</th>\n",
       "                        <td id=\"T_1aaa868a_a5d5_11e9_ac43_8c85904174b4row1_col0\" class=\"data row1 col0\" >7</td>\n",
       "                        <td id=\"T_1aaa868a_a5d5_11e9_ac43_8c85904174b4row1_col1\" class=\"data row1 col1\" >$4.25</td>\n",
       "                        <td id=\"T_1aaa868a_a5d5_11e9_ac43_8c85904174b4row1_col2\" class=\"data row1 col2\" >$29.75</td>\n",
       "            </tr>\n",
       "            <tr>\n",
       "                        <th id=\"T_1aaa868a_a5d5_11e9_ac43_8c85904174b4level0_row2\" class=\"row_heading level0 row2\" >32</th>\n",
       "                        <th id=\"T_1aaa868a_a5d5_11e9_ac43_8c85904174b4level1_row2\" class=\"row_heading level1 row2\" >Orenmir</th>\n",
       "                        <td id=\"T_1aaa868a_a5d5_11e9_ac43_8c85904174b4row2_col0\" class=\"data row2 col0\" >6</td>\n",
       "                        <td id=\"T_1aaa868a_a5d5_11e9_ac43_8c85904174b4row2_col1\" class=\"data row2 col1\" >$4.95</td>\n",
       "                        <td id=\"T_1aaa868a_a5d5_11e9_ac43_8c85904174b4row2_col2\" class=\"data row2 col2\" >$29.70</td>\n",
       "            </tr>\n",
       "            <tr>\n",
       "                        <th id=\"T_1aaa868a_a5d5_11e9_ac43_8c85904174b4level0_row3\" class=\"row_heading level0 row3\" >103</th>\n",
       "                        <th id=\"T_1aaa868a_a5d5_11e9_ac43_8c85904174b4level1_row3\" class=\"row_heading level1 row3\" >Singed Scalpel</th>\n",
       "                        <td id=\"T_1aaa868a_a5d5_11e9_ac43_8c85904174b4row3_col0\" class=\"data row3 col0\" >6</td>\n",
       "                        <td id=\"T_1aaa868a_a5d5_11e9_ac43_8c85904174b4row3_col1\" class=\"data row3 col1\" >$4.87</td>\n",
       "                        <td id=\"T_1aaa868a_a5d5_11e9_ac43_8c85904174b4row3_col2\" class=\"data row3 col2\" >$29.22</td>\n",
       "            </tr>\n",
       "            <tr>\n",
       "                        <th id=\"T_1aaa868a_a5d5_11e9_ac43_8c85904174b4level0_row4\" class=\"row_heading level0 row4\" >107</th>\n",
       "                        <th id=\"T_1aaa868a_a5d5_11e9_ac43_8c85904174b4level1_row4\" class=\"row_heading level1 row4\" >Splitter, Foe Of Subtlety</th>\n",
       "                        <td id=\"T_1aaa868a_a5d5_11e9_ac43_8c85904174b4row4_col0\" class=\"data row4 col0\" >8</td>\n",
       "                        <td id=\"T_1aaa868a_a5d5_11e9_ac43_8c85904174b4row4_col1\" class=\"data row4 col1\" >$3.61</td>\n",
       "                        <td id=\"T_1aaa868a_a5d5_11e9_ac43_8c85904174b4row4_col2\" class=\"data row4 col2\" >$28.88</td>\n",
       "            </tr>\n",
       "    </tbody></table>"
      ],
      "text/plain": [
       "<pandas.io.formats.style.Styler at 0x115b690f0>"
      ]
     },
     "execution_count": 10,
     "metadata": {},
     "output_type": "execute_result"
    }
   ],
   "source": [
    "#Most profitable items\n",
    "# Take the most popular items data frame and change the sorting in descending order to \n",
    "find highest total purchase value\n",
    "popular_formatted = most_popular_items.sort_values([\"Total Purchase Value\"], ascending=False).head()\n",
    "\n",
    "# Format with currency style\n",
    "popular_formatted.style.format({\"Item Price\":\"${:,.2f}\",\n",
    "                                \"Total Purchase Value\":\"${:,.2f}\"})\n"
   ]
  }
 ],
 "metadata": {
  "anaconda-cloud": {},
  "kernel_info": {
   "name": "python3"
  },
  "kernelspec": {
   "display_name": "Python 3",
   "language": "python",
   "name": "python3"
  },
  "language_info": {
   "codemirror_mode": {
    "name": "ipython",
    "version": 3
   },
   "file_extension": ".py",
   "mimetype": "text/x-python",
   "name": "python",
   "nbconvert_exporter": "python",
   "pygments_lexer": "ipython3",
   "version": "3.7.3"
  },
  "nteract": {
   "version": "0.2.0"
  }
 },
 "nbformat": 4,
 "nbformat_minor": 2
}
